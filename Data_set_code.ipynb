{
 "cells": [
  {
   "cell_type": "markdown",
   "id": "a38d3ecb-409d-43a9-bc80-6b43430bdd0f",
   "metadata": {},
   "source": [
    "Making a Oscilarity function"
   ]
  },
  {
   "cell_type": "code",
   "execution_count": null,
   "id": "2a8ebcb8-1f0a-4116-b815-6fbc7d0c821b",
   "metadata": {},
   "outputs": [],
   "source": [
    "import matplotlib.pyplot as plt\n",
    "import numpy as np"
   ]
  },
  {
   "cell_type": "code",
   "execution_count": null,
   "id": "dde8f439-b714-4442-8d12-1cb363d793cc",
   "metadata": {},
   "outputs": [],
   "source": [
    "#x = np.linspace(-10,10,1001)\n",
    "#for n in range(1,3):\n",
    "#    y = x**n * np.sin(x)\n",
    "#    y /= max(y)\n",
    "#    plt.plot(x,y, label=r'$x^{}\\sin x$'.format(n))\n",
    "#plt.legend(loc='lower center')\n",
    "#plt.show()"
   ]
  },
  {
   "cell_type": "code",
   "execution_count": null,
   "id": "80ff12e7-5fea-4db8-920a-bec7f3a0dbb1",
   "metadata": {},

   "source": [
    "#Elton Zeng -> load new text in as x and y separately S\n",
    "x = np.loadtxt(\"ASTR19_S22_group_project_data.txt\", usecols =(0))\n",
    "y = np.loadtxt(\"ASTR19_S22_group_project_data.txt\", usecols =(2))\n",
    "print(x)\n",
    "print(y)\n",
    "plt.scatter(x, y)\n",
    "#x_plot = np.linspace(0, 1000, 100)\n",
    "#f_model \n"
   ]
  }
 ],
 "metadata": {
  "kernelspec": {
   "display_name": "Python 3 (ipykernel)",
   "language": "python",
   "name": "python3"
  },
  "language_info": {
   "codemirror_mode": {
    "name": "ipython",
    "version": 3
   },
   "file_extension": ".py",
   "mimetype": "text/x-python",
   "name": "python",
   "nbconvert_exporter": "python",
   "pygments_lexer": "ipython3",
   "version": "3.9.7"
  }
 },
 "nbformat": 4,
 "nbformat_minor": 5
}
